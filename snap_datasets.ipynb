{
 "cells": [
  {
   "cell_type": "markdown",
   "metadata": {},
   "source": [
    "# Social datasets from SNAP\n",
    "* download website https://snap.stanford.edu/data/"
   ]
  },
  {
   "cell_type": "code",
   "execution_count": 1,
   "metadata": {},
   "outputs": [],
   "source": [
    "from time import time\n",
    "t0 = time()\n",
    "\n",
    "from csv import reader\n",
    "\n",
    "import numpy as np\n",
    "from scipy import sparse\n",
    "\n",
    "from sknetwork.data import load_edge_list, Bunch\n",
    "from sknetwork.utils import edgelist2biadjacency\n",
    "from sknetwork.ranking import Dirichlet, top_k\n",
    "\n",
    "from sklearn.metrics import f1_score"
   ]
  },
  {
   "cell_type": "markdown",
   "metadata": {},
   "source": [
    "## Datasets"
   ]
  },
  {
   "cell_type": "code",
   "execution_count": 2,
   "metadata": {},
   "outputs": [],
   "source": [
    "def snap_dataset(name):\n",
    "    dataset = load_edge_list(name+'.ungraph.txt', directed=False)\n",
    "    n = dataset.adjacency.shape[0]\n",
    "    \n",
    "    ix = {}\n",
    "    for i, node in enumerate(dataset.names):\n",
    "        ix[node] = i\n",
    "    dataset.ix = ix\n",
    "    \n",
    "    edgelist = []\n",
    "    with open(name + '.top5000.cmty.txt', 'r', encoding='utf-8') as f:\n",
    "        csv_reader = reader(f, delimiter='\\t')\n",
    "        for i, line in enumerate(csv_reader):\n",
    "            edgelist += [(dataset.ix[int(node)], i) for node in line]\n",
    "        \n",
    "    B = edgelist2biadjacency(edgelist)\n",
    "    delta = n - B.shape[0]\n",
    "    block = sparse.csr_matrix((delta, B.shape[1]), dtype=bool)\n",
    "    dataset.membership = sparse.bmat([[B], [block]])\n",
    "    \n",
    "    return dataset"
   ]
  },
  {
   "cell_type": "code",
   "execution_count": 3,
   "metadata": {},
   "outputs": [],
   "source": [
    "dblp = snap_dataset('com-dblp')"
   ]
  },
  {
   "cell_type": "code",
   "execution_count": 4,
   "metadata": {},
   "outputs": [
    {
     "data": {
      "text/plain": [
       "<317080x317080 sparse matrix of type '<class 'numpy.bool_'>'\n",
       "\twith 2099732 stored elements in Compressed Sparse Row format>"
      ]
     },
     "execution_count": 4,
     "metadata": {},
     "output_type": "execute_result"
    }
   ],
   "source": [
    "dblp.adjacency"
   ]
  },
  {
   "cell_type": "code",
   "execution_count": 5,
   "metadata": {},
   "outputs": [
    {
     "data": {
      "text/plain": [
       "0.2946638072410748"
      ]
     },
     "execution_count": 5,
     "metadata": {},
     "output_type": "execute_result"
    }
   ],
   "source": [
    "B = dblp.membership\n",
    "d = B.dot(np.ones(B.shape[1]))\n",
    "(d > 0).mean()"
   ]
  },
  {
   "cell_type": "code",
   "execution_count": 6,
   "metadata": {},
   "outputs": [],
   "source": [
    "amazon = snap_dataset('com-amazon')"
   ]
  },
  {
   "cell_type": "code",
   "execution_count": 7,
   "metadata": {},
   "outputs": [
    {
     "data": {
      "text/plain": [
       "<334863x334863 sparse matrix of type '<class 'numpy.bool_'>'\n",
       "\twith 1851744 stored elements in Compressed Sparse Row format>"
      ]
     },
     "execution_count": 7,
     "metadata": {},
     "output_type": "execute_result"
    }
   ],
   "source": [
    "amazon.adjacency"
   ]
  },
  {
   "cell_type": "code",
   "execution_count": 8,
   "metadata": {},
   "outputs": [
    {
     "data": {
      "text/plain": [
       "0.04991892206663621"
      ]
     },
     "execution_count": 8,
     "metadata": {},
     "output_type": "execute_result"
    }
   ],
   "source": [
    "B = amazon.membership\n",
    "d = B.dot(np.ones(B.shape[1]))\n",
    "(d > 0).mean()"
   ]
  },
  {
   "cell_type": "markdown",
   "metadata": {},
   "source": [
    "## Binary classification\n",
    "\n",
    "As these datasets are multi-labels (i.e. one node might belong to several classes), we can perform independent binary classification for each class."
   ]
  },
  {
   "cell_type": "code",
   "execution_count": 9,
   "metadata": {},
   "outputs": [],
   "source": [
    "def balanced_sampling(labels, frac = 0.01):\n",
    "    classes, counts = np.unique(labels, return_counts=True)\n",
    "    labels_seeds = -np.ones_like(labels)\n",
    "    \n",
    "    for i, c in enumerate(classes):\n",
    "        n_seeds = int(frac * counts[i])\n",
    "        ix = np.argwhere(labels == c).ravel()\n",
    "        seeds = np.random.choice(ix, n_seeds, replace=False)\n",
    "        labels_seeds[seeds] = c\n",
    "    return labels_seeds"
   ]
  },
  {
   "cell_type": "code",
   "execution_count": 10,
   "metadata": {},
   "outputs": [],
   "source": [
    "def get_labels(A, seeds):\n",
    "    dirichlet = Dirichlet()\n",
    "    T = dirichlet.fit_transform(A, seeds)\n",
    "    \n",
    "    labels_vanilla = (T > 0.5).astype(int)\n",
    "    \n",
    "    p = seeds[seeds>=0].mean()\n",
    "    ix = np.argwhere(seeds<0).ravel()\n",
    "    labels_weighted = seeds.copy()\n",
    "    labels_weighted[ix] = (p * T[ix] / T[ix].sum() > (1 - p) * (1 - T[ix]) / (1 - T[ix]).sum())\n",
    "    labels_weighted = labels_weighted.astype(int)\n",
    "    \n",
    "    labels_centered = (T > T.mean()).astype(int)\n",
    "    \n",
    "    return labels_vanilla, labels_weighted, labels_centered"
   ]
  },
  {
   "cell_type": "code",
   "execution_count": 11,
   "metadata": {},
   "outputs": [],
   "source": [
    "def benchmark(dataset, n_classes=10, frac=0.01, n_runs=10):\n",
    "    B = dataset.membership\n",
    "    classes_sizes = B.T.dot(np.ones(B.shape[0]))\n",
    "    top_classes = top_k(classes_sizes, n_classes)\n",
    "    B = B[:, top_classes]\n",
    "    \n",
    "    A = dataset.adjacency\n",
    "    n = A.shape[0]\n",
    "    n_seeds = int(frac * n)\n",
    "    \n",
    "    scores = np.zeros((n_runs, 3))\n",
    "    for i in range(n_runs):\n",
    "        \n",
    "        scores_binary = np.zeros((n_classes, 3))\n",
    "        for j in range(n_classes):\n",
    "            y_true = B[:, j].toarray().ravel().astype(int)\n",
    "            seeds = balanced_sampling(y_true, frac)\n",
    "        \n",
    "            labels_v, labels_w, labels_c = get_labels(A, seeds)\n",
    "            score_v = f1_score(y_true, labels_v)\n",
    "            score_w = f1_score(y_true, labels_w)\n",
    "            score_c = f1_score(y_true, labels_c)\n",
    "            \n",
    "            scores_binary[j] = np.array([score_v, score_w, score_c])\n",
    "            \n",
    "        scores[i] = scores_binary.mean(axis=0)\n",
    "        \n",
    "    return scores.mean(axis=0), scores.std(axis=0)"
   ]
  },
  {
   "cell_type": "code",
   "execution_count": 12,
   "metadata": {},
   "outputs": [],
   "source": [
    "np.random.seed(0)\n",
    "μ, σ = benchmark(dblp, n_classes=3, frac=1e-2)"
   ]
  },
  {
   "cell_type": "code",
   "execution_count": 13,
   "metadata": {},
   "outputs": [
    {
     "data": {
      "text/plain": [
       "(array([0.04100458, 0.03935462, 0.18731496]),\n",
       " array([0.00344166, 0.00299894, 0.0121849 ]))"
      ]
     },
     "execution_count": 13,
     "metadata": {},
     "output_type": "execute_result"
    }
   ],
   "source": [
    "μ, σ"
   ]
  },
  {
   "cell_type": "code",
   "execution_count": 14,
   "metadata": {},
   "outputs": [],
   "source": [
    "np.random.seed(0)\n",
    "μ, σ = benchmark(amazon, n_classes=3, frac=1e-2)"
   ]
  },
  {
   "cell_type": "code",
   "execution_count": 15,
   "metadata": {},
   "outputs": [
    {
     "data": {
      "text/plain": [
       "(array([0.0532165 , 0.05361524, 0.17924359]),\n",
       " array([0.01293815, 0.01266617, 0.16127366]))"
      ]
     },
     "execution_count": 15,
     "metadata": {},
     "output_type": "execute_result"
    }
   ],
   "source": [
    "μ, σ"
   ]
  },
  {
   "cell_type": "code",
   "execution_count": 16,
   "metadata": {},
   "outputs": [
    {
     "name": "stdout",
     "output_type": "stream",
     "text": [
      "0.3768748084704081\n"
     ]
    }
   ],
   "source": [
    "total_runtime = time() - t0\n",
    "print(total_runtime / 60)"
   ]
  }
 ],
 "metadata": {
  "kernelspec": {
   "display_name": "Python 3",
   "language": "python",
   "name": "python3"
  },
  "language_info": {
   "codemirror_mode": {
    "name": "ipython",
    "version": 3
   },
   "file_extension": ".py",
   "mimetype": "text/x-python",
   "name": "python",
   "nbconvert_exporter": "python",
   "pygments_lexer": "ipython3",
   "version": "3.8.3"
  }
 },
 "nbformat": 4,
 "nbformat_minor": 4
}
