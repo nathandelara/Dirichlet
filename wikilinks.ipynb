{
 "cells": [
  {
   "cell_type": "markdown",
   "metadata": {},
   "source": [
    "# Experiments on Wikilinks"
   ]
  },
  {
   "cell_type": "code",
   "execution_count": 1,
   "metadata": {},
   "outputs": [],
   "source": [
    "from time import time\n",
    "t0 = time()\n",
    "\n",
    "from functools import partial\n",
    "from multiprocessing import Pool\n",
    "import pickle\n",
    "\n",
    "import numpy as np\n",
    "\n",
    "from sknetwork.data import load_netset, block_model\n",
    "from sknetwork.ranking import Dirichlet\n",
    "from sknetwork.utils import bipartite2undirected\n",
    "from sknetwork.utils.check import check_labels, check_n_jobs\n",
    "\n",
    "from sklearn.metrics import f1_score"
   ]
  },
  {
   "cell_type": "markdown",
   "metadata": {},
   "source": [
    "### Algorithms"
   ]
  },
  {
   "cell_type": "code",
   "execution_count": 2,
   "metadata": {},
   "outputs": [],
   "source": [
    "def temperatures(A, seeds, n_jobs=2, n_iter=10):\n",
    "    n_jobs = check_n_jobs(n_jobs)\n",
    "    dirichlet = Dirichlet()\n",
    "    \n",
    "    classes = np.unique(seeds[seeds>=0])\n",
    "    seeds_ova = []\n",
    "    for c in classes:\n",
    "        seeds_binary = -np.ones_like(seeds)\n",
    "        seeds_binary[(seeds >= 0)] = 0.\n",
    "        seeds_binary[(seeds == c)] = 1.\n",
    "        seeds_ova.append(seeds_binary)\n",
    "        \n",
    "    local_function = partial(dirichlet.fit_transform, A)\n",
    "    with Pool(n_jobs) as pool:\n",
    "        T = np.array(pool.map(local_function, seeds_ova)).T\n",
    "        \n",
    "    return T"
   ]
  },
  {
   "cell_type": "code",
   "execution_count": 3,
   "metadata": {},
   "outputs": [],
   "source": [
    "def vanilla(T):\n",
    "    return T.argmax(axis=1)"
   ]
  },
  {
   "cell_type": "code",
   "execution_count": 4,
   "metadata": {},
   "outputs": [],
   "source": [
    "def weighted(T, seeds):\n",
    "    scores = T.copy()\n",
    "    classes, counts = np.unique(seeds[seeds >= 0], return_counts=True)\n",
    "    ix = np.argwhere(seeds <= 0).ravel()\n",
    "    for i, c in enumerate(classes):\n",
    "        scores[ix, i] *= counts[i] / scores[ix, i].sum()\n",
    "    return scores.argmax(axis=1)"
   ]
  },
  {
   "cell_type": "code",
   "execution_count": 5,
   "metadata": {},
   "outputs": [],
   "source": [
    "def centered(T):\n",
    "    return (T - T.mean(axis=0)).argmax(axis=1)"
   ]
  },
  {
   "cell_type": "markdown",
   "metadata": {},
   "source": [
    "### Seed sampling"
   ]
  },
  {
   "cell_type": "code",
   "execution_count": 6,
   "metadata": {},
   "outputs": [],
   "source": [
    "def node_sampling(labels, frac = 0.01):\n",
    "    n = len(labels)\n",
    "    n_seeds = int(n * frac)\n",
    "    labels_seeds = -np.ones(n)\n",
    "    seeds = np.random.choice(n, n_seeds, replace=False)\n",
    "    labels_seeds[seeds] = labels[seeds]\n",
    "    \n",
    "    return labels_seeds"
   ]
  },
  {
   "cell_type": "code",
   "execution_count": 7,
   "metadata": {},
   "outputs": [],
   "source": [
    "def edge_sampling(adjacency, labels, frac = 0.01):\n",
    "    n = len(labels)\n",
    "    n_seeds = int(n * frac)\n",
    "    labels_seeds = -np.ones(n)\n",
    "    probas = adjacency.dot(np.ones(n))\n",
    "    probas /= probas.sum()\n",
    "    seeds = np.random.choice(n, n_seeds, replace=False, p=probas)\n",
    "    labels_seeds[seeds] = labels[seeds]\n",
    "    \n",
    "    return labels_seeds"
   ]
  },
  {
   "cell_type": "markdown",
   "metadata": {},
   "source": [
    "## Dataset"
   ]
  },
  {
   "cell_type": "code",
   "execution_count": 8,
   "metadata": {},
   "outputs": [],
   "source": [
    "wikilinks = load_netset('wikilinks')"
   ]
  },
  {
   "cell_type": "code",
   "execution_count": 9,
   "metadata": {},
   "outputs": [],
   "source": [
    "del wikilinks['names_col']\n",
    "del wikilinks['names']\n",
    "del wikilinks['wikidata_ids']"
   ]
  },
  {
   "cell_type": "code",
   "execution_count": 10,
   "metadata": {},
   "outputs": [],
   "source": [
    "wikilinks.adjacency = bipartite2undirected(wikilinks.adjacency).astype(bool)"
   ]
  },
  {
   "cell_type": "code",
   "execution_count": 11,
   "metadata": {},
   "outputs": [
    {
     "data": {
      "text/plain": [
       "{'biadjacency': <3210346x3506207 sparse matrix of type '<class 'numpy.bool_'>'\n",
       " \twith 138134642 stored elements in Compressed Sparse Row format>,\n",
       " 'adjacency': <6420692x6420692 sparse matrix of type '<class 'numpy.bool_'>'\n",
       " \twith 134392592 stored elements in Compressed Sparse Row format>,\n",
       " 'meta': {'description': 'Partial graph of Wikipedia (2013 dump). The adjacency represents the links between articles. The biadjacency represents the articles (rows) and the stemmed factors (columns) they contain.',\n",
       "  'sources': 'Built from https://github.com/tscheepers/Wikipedia-Summary-Dataset and https://snap.stanford.edu/data/enwiki-2013.html',\n",
       "  'name': 'wikilinks'}}"
      ]
     },
     "execution_count": 11,
     "metadata": {},
     "output_type": "execute_result"
    }
   ],
   "source": [
    "wikilinks"
   ]
  },
  {
   "cell_type": "markdown",
   "metadata": {},
   "source": [
    "## Computing labels for Wikilinks"
   ]
  },
  {
   "cell_type": "code",
   "execution_count": 12,
   "metadata": {},
   "outputs": [
    {
     "data": {
      "text/plain": [
       "BiLouvain(resolution=1.0, modularity='dugue', tol_aggregation=0.001, n_aggregations=-1, shuffle_nodes=False, sort_clusters=True, return_membership=True, return_aggregate=True)"
      ]
     },
     "execution_count": 12,
     "metadata": {},
     "output_type": "execute_result"
    }
   ],
   "source": [
    "from sknetwork.clustering import BiLouvain\n",
    "bilouvain = BiLouvain(resolution=1.)\n",
    "bilouvain.fit(wikilinks.biadjacency)"
   ]
  },
  {
   "cell_type": "code",
   "execution_count": 13,
   "metadata": {},
   "outputs": [],
   "source": [
    "del wikilinks['biadjacency']"
   ]
  },
  {
   "cell_type": "code",
   "execution_count": 14,
   "metadata": {},
   "outputs": [],
   "source": [
    "new_labels = bilouvain.labels_row_.copy()\n",
    "new_labels[new_labels > 8] = 9"
   ]
  },
  {
   "cell_type": "code",
   "execution_count": 15,
   "metadata": {},
   "outputs": [],
   "source": [
    "_, counts = np.unique(new_labels, return_counts=True)"
   ]
  },
  {
   "cell_type": "code",
   "execution_count": 16,
   "metadata": {},
   "outputs": [
    {
     "data": {
      "text/plain": [
       "0.004788580420926592"
      ]
     },
     "execution_count": 16,
     "metadata": {},
     "output_type": "execute_result"
    }
   ],
   "source": [
    "counts[-1] / counts.sum()"
   ]
  },
  {
   "cell_type": "code",
   "execution_count": 17,
   "metadata": {},
   "outputs": [],
   "source": [
    "np.save('labels_wikilinks', new_labels)"
   ]
  },
  {
   "cell_type": "code",
   "execution_count": 18,
   "metadata": {},
   "outputs": [],
   "source": [
    "labels = np.load('labels_wikilinks.npy')\n",
    "wikilinks.labels = np.concatenate((labels, labels))"
   ]
  },
  {
   "cell_type": "code",
   "execution_count": 19,
   "metadata": {},
   "outputs": [],
   "source": [
    "dataset = wikilinks"
   ]
  },
  {
   "cell_type": "markdown",
   "metadata": {},
   "source": [
    "### Classification"
   ]
  },
  {
   "cell_type": "code",
   "execution_count": 20,
   "metadata": {},
   "outputs": [],
   "source": [
    "def benchmark(dataset, seeds_set):\n",
    "    ns = len(seeds_set)\n",
    "    scores = {'Vanilla': np.zeros(ns),\n",
    "              'Weighted': np.zeros(ns),\n",
    "              'Centered': np.zeros(ns)}\n",
    "    for i, seeds in enumerate(seeds_set):\n",
    "        T = temperatures(dataset.adjacency, seeds)\n",
    "        labels_v = vanilla(T)\n",
    "        labels_w = weighted(T, seeds)\n",
    "        labels_c = centered(T)\n",
    "        \n",
    "        scores['Vanilla'][i] = f1_score(labels_v, dataset.labels, average='macro')\n",
    "        scores['Weighted'][i] = f1_score(labels_w, dataset.labels, average='macro')\n",
    "        scores['Centered'][i] = f1_score(labels_c, dataset.labels, average='macro')\n",
    "    return scores"
   ]
  },
  {
   "cell_type": "code",
   "execution_count": 21,
   "metadata": {},
   "outputs": [],
   "source": [
    "def display(scores):\n",
    "    μ = scores.mean()\n",
    "    σ = scores.std()\n",
    "    return '{:.2f} pm {:.2f}'.format(μ, σ)"
   ]
  },
  {
   "cell_type": "code",
   "execution_count": 22,
   "metadata": {},
   "outputs": [],
   "source": [
    "n_runs = 10"
   ]
  },
  {
   "cell_type": "markdown",
   "metadata": {},
   "source": [
    "#### Uniform sampling"
   ]
  },
  {
   "cell_type": "code",
   "execution_count": 23,
   "metadata": {},
   "outputs": [],
   "source": [
    "np.random.seed(0)\n",
    "seeds_ns = [node_sampling(dataset.labels) for i in range(n_runs)]"
   ]
  },
  {
   "cell_type": "code",
   "execution_count": 24,
   "metadata": {},
   "outputs": [
    {
     "name": "stdout",
     "output_type": "stream",
     "text": [
      "Vanilla 0.19 pm 0.01\n",
      "Weighted 0.18 pm 0.01\n",
      "Centered 0.55 pm 0.01\n"
     ]
    }
   ],
   "source": [
    "scores_ns = benchmark(dataset, seeds_ns)\n",
    "\n",
    "for key, val in scores_ns.items():\n",
    "    print(key, display(val))"
   ]
  },
  {
   "cell_type": "markdown",
   "metadata": {},
   "source": [
    "#### Degree sampling"
   ]
  },
  {
   "cell_type": "code",
   "execution_count": 25,
   "metadata": {},
   "outputs": [],
   "source": [
    "np.random.seed(0)\n",
    "seeds_es = [edge_sampling(dataset.adjacency, dataset.labels) for i in range(n_runs)]"
   ]
  },
  {
   "cell_type": "code",
   "execution_count": 26,
   "metadata": {},
   "outputs": [
    {
     "name": "stdout",
     "output_type": "stream",
     "text": [
      "Vanilla 0.34 pm 0.00\n",
      "Weighted 0.40 pm 0.00\n",
      "Centered 0.45 pm 0.00\n"
     ]
    }
   ],
   "source": [
    "scores_es = benchmark(dataset, seeds_es)\n",
    "\n",
    "for key, val in scores_es.items():\n",
    "    print(key, display(val))"
   ]
  },
  {
   "cell_type": "code",
   "execution_count": 27,
   "metadata": {},
   "outputs": [
    {
     "name": "stdout",
     "output_type": "stream",
     "text": [
      "28.130960885683695\n"
     ]
    }
   ],
   "source": [
    "total_runtime = time() - t0\n",
    "print(total_runtime / 60)"
   ]
  }
 ],
 "metadata": {
  "kernelspec": {
   "display_name": "Python 3",
   "language": "python",
   "name": "python3"
  },
  "language_info": {
   "codemirror_mode": {
    "name": "ipython",
    "version": 3
   },
   "file_extension": ".py",
   "mimetype": "text/x-python",
   "name": "python",
   "nbconvert_exporter": "python",
   "pygments_lexer": "ipython3",
   "version": "3.8.3"
  }
 },
 "nbformat": 4,
 "nbformat_minor": 4
}
