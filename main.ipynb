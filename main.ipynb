{
 "cells": [
  {
   "cell_type": "markdown",
   "metadata": {},
   "source": [
    "# Experiments for paper 8811"
   ]
  },
  {
   "cell_type": "code",
   "execution_count": 1,
   "metadata": {},
   "outputs": [],
   "source": [
    "from time import time\n",
    "t0 = time()\n",
    "\n",
    "from functools import partial\n",
    "from multiprocessing import Pool\n",
    "import pickle\n",
    "\n",
    "import numpy as np\n",
    "\n",
    "from sknetwork.data import load_netset, block_model\n",
    "from sknetwork.ranking import Dirichlet\n",
    "from sknetwork.utils import bipartite2undirected\n",
    "from sknetwork.utils.check import check_labels, check_n_jobs\n",
    "\n",
    "from sklearn.metrics import f1_score"
   ]
  },
  {
   "cell_type": "code",
   "execution_count": 2,
   "metadata": {},
   "outputs": [],
   "source": [
    "import matplotlib\n",
    "import matplotlib.pyplot as plt\n",
    "matplotlib.rcParams['mathtext.fontset'] = 'stix'\n",
    "matplotlib.rcParams['font.family'] = 'STIXGeneral'\n",
    "matplotlib.rc('text', usetex=True)\n",
    "%matplotlib inline\n",
    "\n",
    "prop_cycle = plt.rcParams['axes.prop_cycle']\n",
    "COLORS = prop_cycle.by_key()['color']"
   ]
  },
  {
   "cell_type": "markdown",
   "metadata": {},
   "source": [
    "## Algorithms"
   ]
  },
  {
   "cell_type": "code",
   "execution_count": 3,
   "metadata": {},
   "outputs": [],
   "source": [
    "def temperatures(A, seeds, n_jobs=-1, n_iter=10):\n",
    "    n_jobs = check_n_jobs(n_jobs)\n",
    "    dirichlet = Dirichlet()\n",
    "    \n",
    "    classes = np.unique(seeds[seeds>=0])\n",
    "    seeds_ova = []\n",
    "    for c in classes:\n",
    "        seeds_binary = -np.ones_like(seeds)\n",
    "        seeds_binary[(seeds >= 0)] = 0.\n",
    "        seeds_binary[(seeds == c)] = 1.\n",
    "        seeds_ova.append(seeds_binary)\n",
    "        \n",
    "    local_function = partial(dirichlet.fit_transform, A)\n",
    "    with Pool(n_jobs) as pool:\n",
    "        T = np.array(pool.map(local_function, seeds_ova)).T\n",
    "        \n",
    "    return T"
   ]
  },
  {
   "cell_type": "code",
   "execution_count": 4,
   "metadata": {},
   "outputs": [],
   "source": [
    "def vanilla(T):\n",
    "    return T.argmax(axis=1)"
   ]
  },
  {
   "cell_type": "code",
   "execution_count": 5,
   "metadata": {},
   "outputs": [],
   "source": [
    "def weighted(T, seeds):\n",
    "    scores = T.copy()\n",
    "    classes, counts = np.unique(seeds[seeds >= 0], return_counts=True)\n",
    "    ix = np.argwhere(seeds <= 0).ravel()\n",
    "    for i, c in enumerate(classes):\n",
    "        scores[ix, i] *= counts[i] / scores[ix, i].sum()\n",
    "    return scores.argmax(axis=1)"
   ]
  },
  {
   "cell_type": "code",
   "execution_count": 6,
   "metadata": {},
   "outputs": [],
   "source": [
    "def centered(T):\n",
    "    return (T - T.mean(axis=0)).argmax(axis=1)"
   ]
  },
  {
   "cell_type": "markdown",
   "metadata": {},
   "source": [
    "## Seed sampling"
   ]
  },
  {
   "cell_type": "code",
   "execution_count": 7,
   "metadata": {},
   "outputs": [],
   "source": [
    "def node_sampling(labels, frac = 0.01):\n",
    "    n = len(labels)\n",
    "    n_seeds = int(n * frac)\n",
    "    labels_seeds = -np.ones(n)\n",
    "    seeds = np.random.choice(n, n_seeds, replace=False)\n",
    "    labels_seeds[seeds] = labels[seeds]\n",
    "    \n",
    "    return labels_seeds"
   ]
  },
  {
   "cell_type": "code",
   "execution_count": 8,
   "metadata": {},
   "outputs": [],
   "source": [
    "def edge_sampling(adjacency, labels, frac = 0.01):\n",
    "    n = len(labels)\n",
    "    n_seeds = int(n * frac)\n",
    "    labels_seeds = -np.ones(n)\n",
    "    probas = adjacency.dot(np.ones(n))\n",
    "    probas /= probas.sum()\n",
    "    seeds = np.random.choice(n, n_seeds, replace=False, p=probas)\n",
    "    labels_seeds[seeds] = labels[seeds]\n",
    "    \n",
    "    return labels_seeds"
   ]
  },
  {
   "cell_type": "code",
   "execution_count": 9,
   "metadata": {},
   "outputs": [],
   "source": [
    "def balanced_sampling(labels, frac = 0.01):\n",
    "    classes, counts = np.unique(labels, return_counts=True)\n",
    "    labels_seeds = -np.ones_like(labels)\n",
    "    \n",
    "    for i, c in enumerate(classes):\n",
    "        n_seeds = int(frac * counts[i])\n",
    "        ix = np.argwhere(labels == c).ravel()\n",
    "        seeds = np.random.choice(ix, n_seeds, replace=False)\n",
    "        labels_seeds[seeds] = c\n",
    "    return labels_seeds"
   ]
  },
  {
   "cell_type": "code",
   "execution_count": 10,
   "metadata": {},
   "outputs": [],
   "source": [
    "def topclass_sampling(labels, frac = 0.01):\n",
    "    classes, counts = np.unique(labels, return_counts=True)\n",
    "    topclass, topcount = classes[counts.argmax()], counts.max()\n",
    "    index = np.argwhere(labels == topclass).ravel()\n",
    "    \n",
    "    n_seeds = int(topcount * frac)\n",
    "    labels_seeds = -np.ones_like(labels)\n",
    "    seeds = np.random.choice(index.size, n_seeds, replace=False)\n",
    "    labels_seeds[index[seeds]] = topclass\n",
    "    \n",
    "    return labels_seeds"
   ]
  },
  {
   "cell_type": "markdown",
   "metadata": {},
   "source": [
    "## Datasets\n",
    "\n",
    "The datasets are automatically downloaded from https://graphs.telecom-paristech.fr/Home_page.html."
   ]
  },
  {
   "cell_type": "code",
   "execution_count": 11,
   "metadata": {},
   "outputs": [],
   "source": [
    "cora = load_netset('cora')\n",
    "citeseer = load_netset('citeseer')\n",
    "wikischools = load_netset('wikischools')\n",
    "wikivitals = load_netset('wikivitals')"
   ]
  },
  {
   "cell_type": "code",
   "execution_count": 12,
   "metadata": {},
   "outputs": [],
   "source": [
    "cora.meta = {'name': 'cora'}\n",
    "citeseer.meta = {'name': 'citeseer'}"
   ]
  },
  {
   "cell_type": "code",
   "execution_count": 13,
   "metadata": {},
   "outputs": [],
   "source": [
    "wikischools.adjacency = bipartite2undirected(wikischools.adjacency)\n",
    "wikischools.labels = np.concatenate((wikischools.labels, wikischools.labels))\n",
    "wikivitals.adjacency = bipartite2undirected(wikivitals.adjacency)\n",
    "wikivitals.labels = np.concatenate((wikivitals.labels, wikivitals.labels))"
   ]
  },
  {
   "cell_type": "code",
   "execution_count": 14,
   "metadata": {},
   "outputs": [],
   "source": [
    "datasets = [cora, citeseer, wikischools, wikivitals]"
   ]
  },
  {
   "cell_type": "markdown",
   "metadata": {},
   "source": [
    "## Scores"
   ]
  },
  {
   "cell_type": "code",
   "execution_count": 15,
   "metadata": {},
   "outputs": [],
   "source": [
    "def benchmark(dataset, seeds_set):\n",
    "    ns = len(seeds_set)\n",
    "    scores = {'Vanilla': np.zeros(ns),\n",
    "              'Weighted': np.zeros(ns),\n",
    "              'Centered': np.zeros(ns)}\n",
    "    for i, seeds in enumerate(seeds_set):\n",
    "        T = temperatures(dataset.adjacency, seeds)\n",
    "        labels_v = vanilla(T)\n",
    "        labels_w = weighted(T, seeds)\n",
    "        labels_c = centered(T)\n",
    "        \n",
    "        scores['Vanilla'][i] = f1_score(labels_v, dataset.labels, average='macro')\n",
    "        scores['Weighted'][i] = f1_score(labels_w, dataset.labels, average='macro')\n",
    "        scores['Centered'][i] = f1_score(labels_c, dataset.labels, average='macro')\n",
    "    return scores"
   ]
  },
  {
   "cell_type": "code",
   "execution_count": 16,
   "metadata": {},
   "outputs": [],
   "source": [
    "def display(scores):\n",
    "    μ = scores.mean()\n",
    "    σ = scores.std()\n",
    "    return '{:.2f} pm {:.2f}'.format(μ, σ)"
   ]
  },
  {
   "cell_type": "markdown",
   "metadata": {},
   "source": [
    "### Algorithms"
   ]
  },
  {
   "cell_type": "code",
   "execution_count": 17,
   "metadata": {},
   "outputs": [],
   "source": [
    "colors = {'Vanilla': COLORS[1], 'Weighted': COLORS[2], 'Centered': COLORS[0]}"
   ]
  },
  {
   "cell_type": "markdown",
   "metadata": {},
   "source": [
    "## Stochastic Block Model (binary classification)"
   ]
  },
  {
   "cell_type": "markdown",
   "metadata": {},
   "source": [
    "#### Seed asymmetry"
   ]
  },
  {
   "cell_type": "code",
   "execution_count": 18,
   "metadata": {},
   "outputs": [],
   "source": [
    "n_runs = 10\n",
    "x = np.arange(10)"
   ]
  },
  {
   "cell_type": "code",
   "execution_count": 19,
   "metadata": {},
   "outputs": [],
   "source": [
    "scores = {algo: np.zeros((n_runs, len(x))) for algo in colors.keys()}\n",
    "\n",
    "np.random.seed(0)\n",
    "for i in range(n_runs):\n",
    "    frac_ref = 0.1\n",
    "    n = 10000\n",
    "    n1 = int(0.5 * n)\n",
    "    n2 = int(0.5 * n)\n",
    "    dataset = block_model([n1, n2], metadata=True, p_in=10/n, p_out=1/n)\n",
    "    seeds_ref = node_sampling(dataset.labels, frac=frac_ref)\n",
    "    index = np.argwhere(seeds_ref >= 0).ravel()\n",
    "    \n",
    "    for j, ratio in enumerate(x):\n",
    "        seeds = topclass_sampling(dataset.labels, frac=ratio*frac_ref)\n",
    "        seeds[index] = seeds_ref[index]\n",
    "        \n",
    "        scores_run = benchmark(dataset, [seeds])\n",
    "        for key in colors.keys():\n",
    "            scores[key][i, j] = scores_run[key]\n",
    "                         \n",
    "for name, score in scores.items():\n",
    "    μ, σ = score.mean(axis=0), score.std(axis=0)\n",
    "    scores[name] = (μ, σ)"
   ]
  },
  {
   "cell_type": "code",
   "execution_count": 20,
   "metadata": {},
   "outputs": [
    {
     "data": {
      "image/png": "[encoded data removed]",
      "text/plain": [
       "<Figure size 432x288 with 1 Axes>"
      ]
     },
     "metadata": {
      "needs_background": "light"
     },
     "output_type": "display_data"
    }
   ],
   "source": [
    "plt.figure()\n",
    "\n",
    "for algo, (μ, σ) in scores.items():\n",
    "    plt.errorbar((1+x).astype(int), μ, σ, linestyle='--', marker='^', label=algo, c=colors[algo])\n",
    "\n",
    "plt.ylim(0, 1.)\n",
    "plt.xlabel(r'$s_1/s_2$', fontsize='xx-large')\n",
    "plt.ylabel(r'F1-score', fontsize='xx-large')\n",
    "plt.legend()\n",
    "plt.savefig('SBM1.pdf', format='pdf')\n",
    "plt.show()"
   ]
  },
  {
   "cell_type": "code",
   "execution_count": 21,
   "metadata": {},
   "outputs": [],
   "source": [
    "scores = {algo: np.zeros((n_runs, len(x))) for algo in colors.keys()}\n",
    "\n",
    "np.random.seed(0)\n",
    "for i in range(n_runs):\n",
    "    frac_ref = 0.1\n",
    "    n_ref = 1000\n",
    "    block_sizes = n_ref * np.ones(10, dtype=int)\n",
    "    n = block_sizes.sum()\n",
    "    \n",
    "    dataset = block_model(block_sizes, metadata=True, p_in=50/n, p_out=1/n)\n",
    "    seeds_ref = balanced_sampling(dataset.labels, frac=frac_ref)\n",
    "    index = np.argwhere(seeds_ref >= 0).ravel()\n",
    "    \n",
    "    for j, ratio in enumerate(x):\n",
    "        seeds = topclass_sampling(dataset.labels, frac=ratio*frac_ref)\n",
    "        seeds[index] = seeds_ref[index]\n",
    "        \n",
    "        scores_run = benchmark(dataset, [seeds])\n",
    "        for key in colors.keys():\n",
    "            scores[key][i, j] = scores_run[key]\n",
    "                         \n",
    "for name, score in scores.items():\n",
    "    μ, σ = score.mean(axis=0), score.std(axis=0)\n",
    "    scores[name] = (μ, σ)"
   ]
  },
  {
   "cell_type": "code",
   "execution_count": 22,
   "metadata": {},
   "outputs": [
    {
     "data": {
      "image/png": "[encoded data removed]",
      "text/plain": [
       "<Figure size 432x288 with 1 Axes>"
      ]
     },
     "metadata": {
      "needs_background": "light"
     },
     "output_type": "display_data"
    }
   ],
   "source": [
    "plt.figure()\n",
    "\n",
    "for algo, (μ, σ) in scores.items():\n",
    "    plt.errorbar((1+x).astype(int), μ, σ, linestyle='--', marker='^', label=algo, c=colors[algo])\n",
    "\n",
    "plt.ylim(0, 1.)\n",
    "plt.xlabel(r'$s_1/s_2$', fontsize='xx-large')\n",
    "plt.ylabel(r'macro-F1', fontsize='xx-large')\n",
    "plt.legend()\n",
    "plt.savefig('SBM1_bis.pdf', format='pdf')\n",
    "plt.show()"
   ]
  },
  {
   "cell_type": "markdown",
   "metadata": {},
   "source": [
    "#### Block size asymmetry"
   ]
  },
  {
   "cell_type": "code",
   "execution_count": 23,
   "metadata": {},
   "outputs": [],
   "source": [
    "n_runs = 10\n",
    "x = np.arange(1, 11)"
   ]
  },
  {
   "cell_type": "code",
   "execution_count": 24,
   "metadata": {},
   "outputs": [],
   "source": [
    "scores = {algo: np.zeros((n_runs, len(x))) for algo in colors.keys()}\n",
    "\n",
    "np.random.seed(0)\n",
    "for j, frac in enumerate(x):\n",
    "    n = 10000\n",
    "    n2 = int(n / (1 + frac))\n",
    "    n1 = n - n2\n",
    "    dataset = block_model([n1, n2], metadata=True, p_in=10/n, p_out=1/n)\n",
    "    seed_set = []\n",
    "    \n",
    "    seed_set = [balanced_sampling(dataset.labels, frac=0.1) for i in range(n_runs)]\n",
    "    scores_run = benchmark(dataset, seed_set)\n",
    "    for key in colors.keys():\n",
    "        scores[key][:, j] = scores_run[key]\n",
    "                \n",
    "for name, score in scores.items():\n",
    "    μ, σ = score.mean(axis=0), score.std(axis=0)\n",
    "    scores[name] = (μ, σ)"
   ]
  },
  {
   "cell_type": "code",
   "execution_count": 25,
   "metadata": {},
   "outputs": [
    {
     "data": {
      "image/png": "[encoded data removed]",
      "text/plain": [
       "<Figure size 432x288 with 1 Axes>"
      ]
     },
     "metadata": {
      "needs_background": "light"
     },
     "output_type": "display_data"
    }
   ],
   "source": [
    "plt.figure()\n",
    "for algo, (μ, σ) in scores.items():\n",
    "    plt.errorbar(x, μ, σ, linestyle='--', marker='^', label=algo, c=colors[algo])\n",
    "\n",
    "plt.ylim(0, 1.)\n",
    "plt.xlabel(r'$n_1/n_2$', fontsize='xx-large')\n",
    "plt.ylabel(r'F1-score', fontsize='xx-large')\n",
    "plt.legend()\n",
    "plt.savefig('SBM2.pdf', format='pdf')\n",
    "plt.show()"
   ]
  },
  {
   "cell_type": "code",
   "execution_count": 26,
   "metadata": {},
   "outputs": [],
   "source": [
    "scores = {algo: np.zeros((n_runs, len(x))) for algo in colors.keys()}\n",
    "\n",
    "np.random.seed(0)\n",
    "for j, frac in enumerate(x):\n",
    "    block_sizes = 1000 * np.ones(10, dtype=int)\n",
    "    block_sizes[0] += 1000 * frac\n",
    "    n = block_sizes.sum()\n",
    "    \n",
    "    dataset = block_model(block_sizes, metadata=True, p_in=50/n, p_out=1/n)\n",
    "    seed_set = []\n",
    "    \n",
    "    seed_set = [balanced_sampling(dataset.labels, frac=0.1) for i in range(n_runs)]\n",
    "    scores_run = benchmark(dataset, seed_set)\n",
    "    for key in colors.keys():\n",
    "        scores[key][:, j] = scores_run[key]\n",
    "                \n",
    "for name, score in scores.items():\n",
    "    μ, σ = score.mean(axis=0), score.std(axis=0)\n",
    "    scores[name] = (μ, σ)"
   ]
  },
  {
   "cell_type": "code",
   "execution_count": 27,
   "metadata": {},
   "outputs": [
    {
     "data": {
      "image/png": "[encoded data removed]",
      "text/plain": [
       "<Figure size 432x288 with 1 Axes>"
      ]
     },
     "metadata": {
      "needs_background": "light"
     },
     "output_type": "display_data"
    }
   ],
   "source": [
    "plt.figure()\n",
    "for algo, (μ, σ) in scores.items():\n",
    "    plt.errorbar(x, μ, σ, linestyle='--', marker='^', label=algo, c=colors[algo])\n",
    "\n",
    "plt.ylim(0, 1.)\n",
    "plt.xlabel(r'$n_1/n_2$', fontsize='xx-large')\n",
    "plt.ylabel(r'macro-F1', fontsize='xx-large')\n",
    "plt.legend()\n",
    "plt.savefig('SBM2_bis.pdf', format='pdf')\n",
    "plt.show()"
   ]
  },
  {
   "cell_type": "markdown",
   "metadata": {},
   "source": [
    "## Real data (multi-label classification)"
   ]
  },
  {
   "cell_type": "code",
   "execution_count": 28,
   "metadata": {},
   "outputs": [],
   "source": [
    "n_runs = 10"
   ]
  },
  {
   "cell_type": "markdown",
   "metadata": {},
   "source": [
    "#### Uniform sampling"
   ]
  },
  {
   "cell_type": "code",
   "execution_count": 29,
   "metadata": {},
   "outputs": [],
   "source": [
    "np.random.seed(0)\n",
    "seeds_ns = {dataset.meta['name']: [node_sampling(dataset.labels) for i in range(n_runs)] for dataset in datasets}"
   ]
  },
  {
   "cell_type": "code",
   "execution_count": 30,
   "metadata": {},
   "outputs": [
    {
     "name": "stdout",
     "output_type": "stream",
     "text": [
      "cora\n",
      "Vanilla: 0.19 pm 0.12\n",
      "Weighted: 0.19 pm 0.12\n",
      "Centered: 0.42 pm 0.18\n",
      "\n",
      "citeseer\n",
      "Vanilla: 0.17 pm 0.04\n",
      "Weighted: 0.17 pm 0.04\n",
      "Centered: 0.36 pm 0.04\n",
      "\n",
      "wikischools\n",
      "Vanilla: 0.04 pm 0.02\n",
      "Weighted: 0.04 pm 0.02\n",
      "Centered: 0.21 pm 0.14\n",
      "\n",
      "wikivitals\n",
      "Vanilla: 0.09 pm 0.04\n",
      "Weighted: 0.08 pm 0.03\n",
      "Centered: 0.55 pm 0.03\n",
      "\n"
     ]
    }
   ],
   "source": [
    "for dataset in datasets:\n",
    "    name = dataset.meta['name']\n",
    "    print(name)\n",
    "    seeds = seeds_ns[name]\n",
    "\n",
    "    scores = benchmark(dataset, seeds)\n",
    "    for key, value in scores.items():\n",
    "        print(key + ': ' + display(value))\n",
    "    print()"
   ]
  },
  {
   "cell_type": "markdown",
   "metadata": {},
   "source": [
    "#### Degree sampling"
   ]
  },
  {
   "cell_type": "code",
   "execution_count": 31,
   "metadata": {},
   "outputs": [],
   "source": [
    "np.random.seed(0)\n",
    "seeds_es = {dataset.meta['name']: [edge_sampling(dataset.adjacency, dataset.labels) for i in range(n_runs)] for dataset in datasets}"
   ]
  },
  {
   "cell_type": "code",
   "execution_count": 32,
   "metadata": {},
   "outputs": [
    {
     "name": "stdout",
     "output_type": "stream",
     "text": [
      "cora\n",
      "Vanilla: 0.30 pm 0.08\n",
      "Weighted: 0.29 pm 0.08\n",
      "Centered: 0.51 pm 0.08\n",
      "\n",
      "citeseer\n",
      "Vanilla: 0.16 pm 0.07\n",
      "Weighted: 0.17 pm 0.07\n",
      "Centered: 0.26 pm 0.13\n",
      "\n",
      "wikischools\n",
      "Vanilla: 0.01 pm 0.01\n",
      "Weighted: 0.02 pm 0.01\n",
      "Centered: 0.07 pm 0.05\n",
      "\n",
      "wikivitals\n",
      "Vanilla: 0.10 pm 0.04\n",
      "Weighted: 0.12 pm 0.05\n",
      "Centered: 0.48 pm 0.02\n",
      "\n"
     ]
    }
   ],
   "source": [
    "for dataset in datasets:\n",
    "    name = dataset.meta['name']\n",
    "    print(name)\n",
    "    seeds = seeds_es[name]\n",
    "\n",
    "    scores = benchmark(dataset, seeds)\n",
    "    for key, value in scores.items():\n",
    "        print(key + ': ' + display(value))\n",
    "    print()"
   ]
  },
  {
   "cell_type": "markdown",
   "metadata": {},
   "source": [
    "## Biased sampling"
   ]
  },
  {
   "cell_type": "code",
   "execution_count": 33,
   "metadata": {},
   "outputs": [],
   "source": [
    "s = np.linspace(0.01, 0.09, 9)\n",
    "n_runs = 10"
   ]
  },
  {
   "cell_type": "code",
   "execution_count": 34,
   "metadata": {},
   "outputs": [],
   "source": [
    "seeds_biased = {}\n",
    "np.random.seed(0)\n",
    "for dataset in datasets:\n",
    "    seeds_dataset = {}\n",
    "    for i in range(n_runs):\n",
    "        ref = node_sampling(dataset.labels)\n",
    "        index = np.argwhere(ref >= 0).ravel()\n",
    "        seeds_list = [ref]\n",
    "\n",
    "        for frac in s:\n",
    "            seeds = topclass_sampling(dataset.labels, frac=frac)\n",
    "            seeds[index] = ref[index]\n",
    "            seeds_list.append(seeds)\n",
    "        seeds_dataset[i] = seeds_list\n",
    "    seeds_biased[dataset.meta['name']] = seeds_dataset"
   ]
  },
  {
   "cell_type": "code",
   "execution_count": 35,
   "metadata": {},
   "outputs": [],
   "source": [
    "def benchmark_biased(dataset, seeds_set):\n",
    "    shape = (len(seeds_set), len(s)+1)\n",
    "    scores = {'Vanilla': np.zeros(shape), 'Weighted': np.zeros(shape), 'Centered': np.zeros(shape)}\n",
    "    \n",
    "    for i, seeds_list in seeds_set.items():\n",
    "        scores_run = benchmark(dataset, seeds_list)\n",
    "        scores['Vanilla'][i, :] = scores_run['Vanilla']\n",
    "        scores['Weighted'][i, :] = scores_run['Weighted']\n",
    "        scores['Centered'][i, :] = scores_run['Centered']\n",
    "\n",
    "    scores['Vanilla'] =  scores['Vanilla'].mean(axis=0), scores['Vanilla'].std(axis=0)\n",
    "    scores['Weighted'] =  scores['Weighted'].mean(axis=0), scores['Weighted'].std(axis=0)\n",
    "    scores['Centered'] =  scores['Centered'].mean(axis=0), scores['Centered'].std(axis=0)\n",
    "    \n",
    "    return scores"
   ]
  },
  {
   "cell_type": "code",
   "execution_count": 36,
   "metadata": {},
   "outputs": [],
   "source": [
    "scores_biased = {dataset.meta['name']: {} for dataset in datasets}\n",
    "\n",
    "for dataset in datasets:\n",
    "    name = dataset.meta['name']\n",
    "    seeds = seeds_biased[name]\n",
    "    scores_biased[name] = benchmark_biased(dataset, seeds)"
   ]
  },
  {
   "cell_type": "code",
   "execution_count": 37,
   "metadata": {},
   "outputs": [],
   "source": [
    "pickle.dump(scores_biased, open('scores_biased.p', 'wb'))"
   ]
  },
  {
   "cell_type": "code",
   "execution_count": 38,
   "metadata": {},
   "outputs": [],
   "source": [
    "scores_biased = pickle.load(open('scores_biased.p', 'rb'))"
   ]
  },
  {
   "cell_type": "code",
   "execution_count": 39,
   "metadata": {},
   "outputs": [
    {
     "data": {
      "image/png": "[encoded data removed]",
      "text/plain": [
       "<Figure size 432x288 with 1 Axes>"
      ]
     },
     "metadata": {
      "needs_background": "light"
     },
     "output_type": "display_data"
    }
   ],
   "source": [
    "name = 'cora'\n",
    "plt.figure()\n",
    "x = np.arange(1, 11)\n",
    "for algo, (μ, σ) in scores_biased[name].items():\n",
    "    if algo != 'Weighted':\n",
    "        plt.errorbar(x, μ, σ, linestyle='--', marker='^', label=algo, c=colors[algo])\n",
    "\n",
    "plt.title(r'Cora', fontsize='xx-large')\n",
    "plt.ylim(0, 1.)\n",
    "plt.xlabel(r'$s_1/s_2$', fontsize='xx-large')\n",
    "plt.ylabel(r'macro-F1', fontsize='xx-large')\n",
    "plt.legend()\n",
    "plt.savefig(name+'.pdf', format='pdf')\n",
    "plt.show()"
   ]
  },
  {
   "cell_type": "code",
   "execution_count": 40,
   "metadata": {},
   "outputs": [
    {
     "data": {
      "image/png": "[encoded data removed]",
      "text/plain": [
       "<Figure size 432x288 with 1 Axes>"
      ]
     },
     "metadata": {
      "needs_background": "light"
     },
     "output_type": "display_data"
    }
   ],
   "source": [
    "name = 'citeseer'\n",
    "plt.figure()\n",
    "x = np.arange(1, 11)\n",
    "for algo, (μ, σ) in scores_biased[name].items():\n",
    "    if algo != 'Weighted':\n",
    "        plt.errorbar(x, μ, σ, linestyle='--', marker='^', label=algo, c=colors[algo])\n",
    "\n",
    "\n",
    "plt.title(r'Citeseer', fontsize='xx-large')\n",
    "plt.ylim(0, 1.)\n",
    "plt.xlabel(r'$s_1/s_2$', fontsize='xx-large')\n",
    "plt.ylabel(r'macro-F1', fontsize='xx-large')\n",
    "plt.legend()\n",
    "plt.savefig(name+'.pdf', format='pdf')\n",
    "plt.show()"
   ]
  },
  {
   "cell_type": "code",
   "execution_count": 41,
   "metadata": {},
   "outputs": [
    {
     "data": {
      "image/png": "[encoded data removed]",
      "text/plain": [
       "<Figure size 432x288 with 1 Axes>"
      ]
     },
     "metadata": {
      "needs_background": "light"
     },
     "output_type": "display_data"
    }
   ],
   "source": [
    "name = 'wikischools'\n",
    "plt.figure()\n",
    "x = np.arange(1, 11)\n",
    "for algo, (μ, σ) in scores_biased[name].items():\n",
    "    if algo != 'Weighted':\n",
    "        plt.errorbar(x, μ, σ, linestyle='--', marker='^', label=algo, c=colors[algo])\n",
    "\n",
    "\n",
    "plt.title(r'Wikipedia\\ for\\ schools', fontsize='xx-large')\n",
    "plt.ylim(0, 1.)\n",
    "plt.xlabel(r'$s_1/s_2$', fontsize='xx-large')\n",
    "plt.ylabel(r'macro-F1', fontsize='xx-large')\n",
    "plt.legend()\n",
    "plt.savefig(name+'.pdf', format='pdf')\n",
    "plt.show()"
   ]
  },
  {
   "cell_type": "code",
   "execution_count": 42,
   "metadata": {},
   "outputs": [
    {
     "data": {
      "image/png": "[encoded data removed]",
      "text/plain": [
       "<Figure size 432x288 with 1 Axes>"
      ]
     },
     "metadata": {
      "needs_background": "light"
     },
     "output_type": "display_data"
    }
   ],
   "source": [
    "name = 'wikivitals'\n",
    "plt.figure()\n",
    "x = np.arange(1, 11)\n",
    "for algo, (μ, σ) in scores_biased[name].items():\n",
    "    if algo != 'Weighted':\n",
    "        plt.errorbar(x, μ, σ, linestyle='--', marker='^', label=algo, c=colors[algo])\n",
    "\n",
    "\n",
    "plt.title(r'Wikipedia\\ vitals', fontsize='xx-large')\n",
    "plt.ylim(0, 1.)\n",
    "plt.xlabel(r'$s_1/s_2$', fontsize='xx-large')\n",
    "plt.ylabel(r'macro-F1', fontsize='xx-large')\n",
    "plt.legend()\n",
    "plt.savefig(name+'.pdf', format='pdf')\n",
    "plt.show()"
   ]
  },
  {
   "cell_type": "code",
   "execution_count": 43,
   "metadata": {},
   "outputs": [
    {
     "name": "stdout",
     "output_type": "stream",
     "text": [
      "5.623368767897288\n"
     ]
    }
   ],
   "source": [
    "total_runtime = time() - t0\n",
    "print(total_runtime / 60)"
   ]
  }
 ],
 "metadata": {
  "kernelspec": {
   "display_name": "Python 3",
   "language": "python",
   "name": "python3"
  },
  "language_info": {
   "codemirror_mode": {
    "name": "ipython",
    "version": 3
   },
   "file_extension": ".py",
   "mimetype": "text/x-python",
   "name": "python",
   "nbconvert_exporter": "python",
   "pygments_lexer": "ipython3",
   "version": "3.8.3"
  }
 },
 "nbformat": 4,
 "nbformat_minor": 4
}
